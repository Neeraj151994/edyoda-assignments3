{
 "cells": [
  {
   "cell_type": "code",
   "execution_count": null,
   "id": "c4b3b2df",
   "metadata": {},
   "outputs": [],
   "source": [
    "def reverse_strings(a):\n",
    "    str1=\"\"\n",
    "    for i in a:\n",
    "        str1=i+str1\n",
    "    return str1\n",
    "str2=(\"12345abcd\")\n",
    "print(str2)\n",
    "print(reverse_strings(str2))"
   ]
  }
 ],
 "metadata": {
  "kernelspec": {
   "display_name": "Python 3 (ipykernel)",
   "language": "python",
   "name": "python3"
  },
  "language_info": {
   "codemirror_mode": {
    "name": "ipython",
    "version": 3
   },
   "file_extension": ".py",
   "mimetype": "text/x-python",
   "name": "python",
   "nbconvert_exporter": "python",
   "pygments_lexer": "ipython3",
   "version": "3.10.1"
  }
 },
 "nbformat": 4,
 "nbformat_minor": 5
}
